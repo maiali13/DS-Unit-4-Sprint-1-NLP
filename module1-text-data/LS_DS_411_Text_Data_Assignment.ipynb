{
 "cells": [
  {
   "cell_type": "markdown",
   "metadata": {},
   "source": [
    "<img align=\"left\" src=\"https://lever-client-logos.s3.amazonaws.com/864372b1-534c-480e-acd5-9711f850815c-1524247202159.png\" width=200>\n",
    "<br></br>\n",
    "<br></br>\n",
    "\n",
    "# Natural Language Processing (NLP)\n",
    "## *Data Science Unit 4 Sprint 1 Assignment 1*\n",
    "\n",
    "Your goal in this assignment: find the attributes of the best & worst coffee shops in the dataset. The text is fairly raw: dates in the review, extra words in the `star_rating` column, etc. You'll probably want to clean that stuff up for a better analysis. \n",
    "\n",
    "Analyze the corpus of text using text visualizations of token frequency. Try cleaning the data as much as possible. Try the following techniques: \n",
    "- Lemmatization\n",
    "- Custom stopword removal\n",
    "\n",
    "Keep in mind the attributes of good tokens. Once you have a solid baseline, layer in the star rating in your visualization(s). Key part of this assignment - produce a write-up of the attributes of the best and worst coffee shops. Based on your analysis, what makes the best the best and the worst the worst. Use graphs and numbesr from your analysis to support your conclusions. There should be plenty of markdown cells! :coffee:"
   ]
  },
  {
   "cell_type": "code",
   "execution_count": 1,
   "metadata": {},
   "outputs": [
    {
     "data": {
      "image/jpeg": "[encoded data removed]",
      "text/html": [
       "\n",
       "        <iframe\n",
       "            width=\"400\"\n",
       "            height=\"300\"\n",
       "            src=\"https://www.youtube.com/embed/Jml7NVYm8cs\"\n",
       "            frameborder=\"0\"\n",
       "            allowfullscreen\n",
       "        ></iframe>\n",
       "        "
      ],
      "text/plain": [
       "<IPython.lib.display.YouTubeVideo at 0x7f2dec28ccd0>"
      ]
     },
     "execution_count": 1,
     "metadata": {},
     "output_type": "execute_result"
    }
   ],
   "source": [
    "from IPython.display import YouTubeVideo\n",
    "\n",
    "YouTubeVideo('Jml7NVYm8cs')"
   ]
  },
  {
   "cell_type": "code",
   "execution_count": 2,
   "metadata": {},
   "outputs": [
    {
     "data": {
      "text/plain": [
       "'/home/mai/Desktop/DS-Unit-4-Sprint-1-NLP/module1-text-data'"
      ]
     },
     "execution_count": 2,
     "metadata": {},
     "output_type": "execute_result"
    }
   ],
   "source": [
    "%pwd"
   ]
  },
  {
   "cell_type": "code",
   "execution_count": 3,
   "metadata": {},
   "outputs": [
    {
     "name": "stdout",
     "output_type": "stream",
     "text": [
      "Requirement already satisfied: pandas in /home/mai/.pyenv/versions/3.7.6/lib/python3.7/site-packages (1.0.3)\n",
      "Requirement already satisfied: pytz>=2017.2 in /home/mai/.pyenv/versions/3.7.6/lib/python3.7/site-packages (from pandas) (2020.1)\n",
      "Requirement already satisfied: numpy>=1.13.3 in /home/mai/.pyenv/versions/3.7.6/lib/python3.7/site-packages (from pandas) (1.18.4)\n",
      "Requirement already satisfied: python-dateutil>=2.6.1 in /home/mai/.pyenv/versions/3.7.6/lib/python3.7/site-packages (from pandas) (2.8.1)\n",
      "Requirement already satisfied: six>=1.5 in /home/mai/.pyenv/versions/3.7.6/lib/python3.7/site-packages (from python-dateutil>=2.6.1->pandas) (1.14.0)\n",
      "\u001b[33mWARNING: You are using pip version 19.2.3, however version 20.1 is available.\n",
      "You should consider upgrading via the 'pip install --upgrade pip' command.\u001b[0m\n"
     ]
    }
   ],
   "source": [
    "!pip install pandas \n",
    "import pandas as pd"
   ]
  },
  {
   "cell_type": "code",
   "execution_count": 4,
   "metadata": {},
   "outputs": [],
   "source": [
    "# Imports\n",
    "from collections import Counter\n",
    "\n",
    "# Plotting\n",
    "import squarify\n",
    "import matplotlib.pyplot as plt\n",
    "import seaborn as sns\n",
    "\n",
    "# NLP\n",
    "import spacy\n",
    "from spacy.tokenizer import Tokenizer \n",
    "from nltk.stem import PorterStemmer\n",
    "\n",
    "nlp = spacy.load(\"en_core_web_lg\")"
   ]
  },
  {
   "cell_type": "code",
   "execution_count": 5,
   "metadata": {},
   "outputs": [
    {
     "data": {
      "text/html": [
       "<div>\n",
       "<style scoped>\n",
       "    .dataframe tbody tr th:only-of-type {\n",
       "        vertical-align: middle;\n",
       "    }\n",
       "\n",
       "    .dataframe tbody tr th {\n",
       "        vertical-align: top;\n",
       "    }\n",
       "\n",
       "    .dataframe thead th {\n",
       "        text-align: right;\n",
       "    }\n",
       "</style>\n",
       "<table border=\"1\" class=\"dataframe\">\n",
       "  <thead>\n",
       "    <tr style=\"text-align: right;\">\n",
       "      <th></th>\n",
       "      <th>coffee_shop_name</th>\n",
       "      <th>full_review_text</th>\n",
       "      <th>star_rating</th>\n",
       "    </tr>\n",
       "  </thead>\n",
       "  <tbody>\n",
       "    <tr>\n",
       "      <th>0</th>\n",
       "      <td>The Factory - Cafe With a Soul</td>\n",
       "      <td>11/25/2016 1 check-in Love love loved the atm...</td>\n",
       "      <td>5.0 star rating</td>\n",
       "    </tr>\n",
       "    <tr>\n",
       "      <th>1</th>\n",
       "      <td>The Factory - Cafe With a Soul</td>\n",
       "      <td>12/2/2016 Listed in Date Night: Austin, Ambia...</td>\n",
       "      <td>4.0 star rating</td>\n",
       "    </tr>\n",
       "    <tr>\n",
       "      <th>2</th>\n",
       "      <td>The Factory - Cafe With a Soul</td>\n",
       "      <td>11/30/2016 1 check-in Listed in Brunch Spots ...</td>\n",
       "      <td>4.0 star rating</td>\n",
       "    </tr>\n",
       "    <tr>\n",
       "      <th>3</th>\n",
       "      <td>The Factory - Cafe With a Soul</td>\n",
       "      <td>11/25/2016 Very cool decor! Good drinks Nice ...</td>\n",
       "      <td>2.0 star rating</td>\n",
       "    </tr>\n",
       "    <tr>\n",
       "      <th>4</th>\n",
       "      <td>The Factory - Cafe With a Soul</td>\n",
       "      <td>12/3/2016 1 check-in They are located within ...</td>\n",
       "      <td>4.0 star rating</td>\n",
       "    </tr>\n",
       "  </tbody>\n",
       "</table>\n",
       "</div>"
      ],
      "text/plain": [
       "                  coffee_shop_name  \\\n",
       "0  The Factory - Cafe With a Soul    \n",
       "1  The Factory - Cafe With a Soul    \n",
       "2  The Factory - Cafe With a Soul    \n",
       "3  The Factory - Cafe With a Soul    \n",
       "4  The Factory - Cafe With a Soul    \n",
       "\n",
       "                                    full_review_text        star_rating  \n",
       "0   11/25/2016 1 check-in Love love loved the atm...   5.0 star rating   \n",
       "1   12/2/2016 Listed in Date Night: Austin, Ambia...   4.0 star rating   \n",
       "2   11/30/2016 1 check-in Listed in Brunch Spots ...   4.0 star rating   \n",
       "3   11/25/2016 Very cool decor! Good drinks Nice ...   2.0 star rating   \n",
       "4   12/3/2016 1 check-in They are located within ...   4.0 star rating   "
      ]
     },
     "execution_count": 5,
     "metadata": {},
     "output_type": "execute_result"
    }
   ],
   "source": [
    "url = \"https://raw.githubusercontent.com/LambdaSchool/DS-Unit-4-Sprint-1-NLP/master/module1-text-data/data/yelp_coffeeshop_review_data.csv\"\n",
    "\n",
    "shops = pd.read_csv(url)\n",
    "shops.head()"
   ]
  },
  {
   "cell_type": "code",
   "execution_count": 6,
   "metadata": {},
   "outputs": [
    {
     "data": {
      "text/plain": [
       "(7616, 3)"
      ]
     },
     "execution_count": 6,
     "metadata": {},
     "output_type": "execute_result"
    }
   ],
   "source": [
    "#exploring data\n",
    "shops.shape"
   ]
  },
  {
   "cell_type": "code",
   "execution_count": 7,
   "metadata": {},
   "outputs": [
    {
     "data": {
      "text/plain": [
       " 5.0 star rating     3780\n",
       " 4.0 star rating     2360\n",
       " 3.0 star rating      738\n",
       " 2.0 star rating      460\n",
       " 1.0 star rating      278\n",
       "Name: star_rating, dtype: int64"
      ]
     },
     "execution_count": 7,
     "metadata": {},
     "output_type": "execute_result"
    }
   ],
   "source": [
    "shops['star_rating'].value_counts()"
   ]
  },
  {
   "cell_type": "code",
   "execution_count": null,
   "metadata": {},
   "outputs": [],
   "source": []
  },
  {
   "cell_type": "markdown",
   "metadata": {},
   "source": [
    "## Data Cleaning  \n",
    "\n",
    "- Overall Word / Token Count\n",
    "- View Counts by Rating \n",
    "- *Hint:* a 'bad' coffee shops has a rating betweeen 1 & 3 based on the distribution of ratings. A 'good' coffee shop is a 4 or 5. "
   ]
  },
  {
   "cell_type": "code",
   "execution_count": 8,
   "metadata": {},
   "outputs": [],
   "source": [
    "#case normalization, remove date, extra spaces, number of check-ins\n",
    "shops['full_review_text'] = shops[\"full_review_text\"].str.lower()"
   ]
  },
  {
   "cell_type": "code",
   "execution_count": 9,
   "metadata": {},
   "outputs": [],
   "source": [
    "shops['full_review_text'] = shops['full_review_text'].str.split(\" \",2).str[2]"
   ]
  },
  {
   "cell_type": "code",
   "execution_count": null,
   "metadata": {},
   "outputs": [],
   "source": []
  },
  {
   "cell_type": "code",
   "execution_count": 10,
   "metadata": {},
   "outputs": [
    {
     "data": {
      "text/plain": [
       "0    1 check-in love love loved the atmosphere! eve...\n",
       "1    listed in date night: austin, ambiance in aust...\n",
       "2    1 check-in listed in brunch spots i loved the ...\n",
       "3    very cool decor! good drinks nice seating  how...\n",
       "4    1 check-in they are located within the northcr...\n",
       "Name: review, dtype: object"
      ]
     },
     "execution_count": 10,
     "metadata": {},
     "output_type": "execute_result"
    }
   ],
   "source": [
    "#rename review column\n",
    "shops['review'] = shops['full_review_text']\n",
    "shops['review'].head()"
   ]
  },
  {
   "cell_type": "code",
   "execution_count": 11,
   "metadata": {},
   "outputs": [
    {
     "data": {
      "text/plain": [
       "0     5.0   \n",
       "1     4.0   \n",
       "2     4.0   \n",
       "3     2.0   \n",
       "4     4.0   \n",
       "Name: star_rating, dtype: object"
      ]
     },
     "execution_count": 11,
     "metadata": {},
     "output_type": "execute_result"
    }
   ],
   "source": [
    "#remove star rating text\n",
    "shops['star_rating'] = shops['star_rating'].str.replace(r\"[a-zA-Z]\",'')\n",
    "shops['star_rating'].head()"
   ]
  },
  {
   "cell_type": "code",
   "execution_count": 12,
   "metadata": {},
   "outputs": [
    {
     "data": {
      "text/plain": [
       "0    5.0\n",
       "1    4.0\n",
       "2    4.0\n",
       "3    2.0\n",
       "4    4.0\n",
       "Name: star_rating, dtype: float64"
      ]
     },
     "execution_count": 12,
     "metadata": {},
     "output_type": "execute_result"
    }
   ],
   "source": [
    "#make the column into correct dtype\n",
    "shops['star_rating'] = shops['star_rating'].astype(float)\n",
    "shops['star_rating'].head()"
   ]
  },
  {
   "cell_type": "markdown",
   "metadata": {},
   "source": [
    "## How do we want to analyze these coffee shop tokens? \n",
    "\n",
    "- Overall Word / Token Count\n",
    "- View Counts by Rating \n",
    "- *Hint:* a 'bad' coffee shops has a rating betweeen 1 & 3 based on the distribution of ratings. A 'good' coffee shop is a 4 or 5. "
   ]
  },
  {
   "cell_type": "code",
   "execution_count": 13,
   "metadata": {},
   "outputs": [
    {
     "data": {
      "text/plain": [
       "0    [1, checkin, love, love, loved, the, atmospher...\n",
       "1    [listed, in, date, night, austin, ambiance, in...\n",
       "2    [1, checkin, listed, in, brunch, spots, i, lov...\n",
       "3    [very, cool, decor, good, drinks, nice, seatin...\n",
       "4    [1, checkin, they, are, located, within, the, ...\n",
       "Name: review_tokens, dtype: object"
      ]
     },
     "execution_count": 13,
     "metadata": {},
     "output_type": "execute_result"
    }
   ],
   "source": [
    "#Tokenizer\n",
    "tokenizer = Tokenizer(nlp.vocab)\n",
    "import re\n",
    "def tokenize(text):\n",
    "    tokens = re.sub(r'[^a-zA-Z ^0-9]', '', text)\n",
    "    tokens = tokens.lower().split()\n",
    "    return tokens\n",
    "shops['review_tokens'] = shops['full_review_text'].apply(tokenize)\n",
    "shops['review_tokens'].head()"
   ]
  },
  {
   "cell_type": "code",
   "execution_count": 14,
   "metadata": {},
   "outputs": [
    {
     "data": {
      "text/plain": [
       "[('the', 34809),\n",
       " ('and', 26650),\n",
       " ('a', 22755),\n",
       " ('i', 20237),\n",
       " ('to', 17164),\n",
       " ('of', 12600),\n",
       " ('is', 11999),\n",
       " ('coffee', 10353),\n",
       " ('was', 9707),\n",
       " ('in', 9546)]"
      ]
     },
     "execution_count": 14,
     "metadata": {},
     "output_type": "execute_result"
    }
   ],
   "source": [
    "from collections import Counter\n",
    "\n",
    "# The object `Counter` takes an iterable, but you can instaniate an empty one and update it. \n",
    "word_counts = Counter()\n",
    "\n",
    "# Update it based on a split of each of our documents\n",
    "shops['review_tokens'].apply(lambda x: word_counts.update(x))\n",
    "\n",
    "# Print out the 10 most common words\n",
    "word_counts.most_common(10)"
   ]
  },
  {
   "cell_type": "code",
   "execution_count": 15,
   "metadata": {},
   "outputs": [],
   "source": [
    "def count(docs):\n",
    "\n",
    "        word_counts = Counter()\n",
    "        appears_in = Counter()\n",
    "        \n",
    "        total_docs = len(docs)\n",
    "\n",
    "        for doc in docs:\n",
    "            word_counts.update(doc)\n",
    "            appears_in.update(set(doc))\n",
    "\n",
    "        temp = zip(word_counts.keys(), word_counts.values())\n",
    "        \n",
    "        wc = pd.DataFrame(temp, columns = ['word', 'count'])\n",
    "\n",
    "        wc['rank'] = wc['count'].rank(method='first', ascending=False)\n",
    "        total = wc['count'].sum()\n",
    "\n",
    "        wc['pct_total'] = wc['count'].apply(lambda x: x / total)\n",
    "        \n",
    "        wc = wc.sort_values(by='rank')\n",
    "        wc['cul_pct_total'] = wc['pct_total'].cumsum()\n",
    "\n",
    "        t2 = zip(appears_in.keys(), appears_in.values())\n",
    "        ac = pd.DataFrame(t2, columns=['word', 'appears_in'])\n",
    "        wc = ac.merge(wc, on='word')\n",
    "\n",
    "        wc['appears_in_pct'] = wc['appears_in'].apply(lambda x: x / total_docs)\n",
    "        \n",
    "        return wc.sort_values(by='rank')"
   ]
  },
  {
   "cell_type": "code",
   "execution_count": 16,
   "metadata": {},
   "outputs": [
    {
     "data": {
      "text/html": [
       "<div>\n",
       "<style scoped>\n",
       "    .dataframe tbody tr th:only-of-type {\n",
       "        vertical-align: middle;\n",
       "    }\n",
       "\n",
       "    .dataframe tbody tr th {\n",
       "        vertical-align: top;\n",
       "    }\n",
       "\n",
       "    .dataframe thead th {\n",
       "        text-align: right;\n",
       "    }\n",
       "</style>\n",
       "<table border=\"1\" class=\"dataframe\">\n",
       "  <thead>\n",
       "    <tr style=\"text-align: right;\">\n",
       "      <th></th>\n",
       "      <th>word</th>\n",
       "      <th>appears_in</th>\n",
       "      <th>count</th>\n",
       "      <th>rank</th>\n",
       "      <th>pct_total</th>\n",
       "      <th>cul_pct_total</th>\n",
       "      <th>appears_in_pct</th>\n",
       "    </tr>\n",
       "  </thead>\n",
       "  <tbody>\n",
       "    <tr>\n",
       "      <th>13</th>\n",
       "      <td>the</td>\n",
       "      <td>6847</td>\n",
       "      <td>34809</td>\n",
       "      <td>1.0</td>\n",
       "      <td>0.044975</td>\n",
       "      <td>0.044975</td>\n",
       "      <td>0.899028</td>\n",
       "    </tr>\n",
       "    <tr>\n",
       "      <th>8</th>\n",
       "      <td>and</td>\n",
       "      <td>6864</td>\n",
       "      <td>26650</td>\n",
       "      <td>2.0</td>\n",
       "      <td>0.034433</td>\n",
       "      <td>0.079408</td>\n",
       "      <td>0.901261</td>\n",
       "    </tr>\n",
       "    <tr>\n",
       "      <th>36</th>\n",
       "      <td>a</td>\n",
       "      <td>6246</td>\n",
       "      <td>22755</td>\n",
       "      <td>3.0</td>\n",
       "      <td>0.029401</td>\n",
       "      <td>0.108809</td>\n",
       "      <td>0.820116</td>\n",
       "    </tr>\n",
       "    <tr>\n",
       "      <th>34</th>\n",
       "      <td>i</td>\n",
       "      <td>5528</td>\n",
       "      <td>20237</td>\n",
       "      <td>4.0</td>\n",
       "      <td>0.026147</td>\n",
       "      <td>0.134956</td>\n",
       "      <td>0.725840</td>\n",
       "    </tr>\n",
       "    <tr>\n",
       "      <th>30</th>\n",
       "      <td>to</td>\n",
       "      <td>5653</td>\n",
       "      <td>17164</td>\n",
       "      <td>5.0</td>\n",
       "      <td>0.022177</td>\n",
       "      <td>0.157132</td>\n",
       "      <td>0.742253</td>\n",
       "    </tr>\n",
       "  </tbody>\n",
       "</table>\n",
       "</div>"
      ],
      "text/plain": [
       "   word  appears_in  count  rank  pct_total  cul_pct_total  appears_in_pct\n",
       "13  the        6847  34809   1.0   0.044975       0.044975        0.899028\n",
       "8   and        6864  26650   2.0   0.034433       0.079408        0.901261\n",
       "36    a        6246  22755   3.0   0.029401       0.108809        0.820116\n",
       "34    i        5528  20237   4.0   0.026147       0.134956        0.725840\n",
       "30   to        5653  17164   5.0   0.022177       0.157132        0.742253"
      ]
     },
     "execution_count": 16,
     "metadata": {},
     "output_type": "execute_result"
    }
   ],
   "source": [
    "wc = count(shops['review_tokens'])\n",
    "wc.head()"
   ]
  },
  {
   "cell_type": "markdown",
   "metadata": {},
   "source": [
    "## Can visualize the words with the greatest difference in counts between 'good' & 'bad'?\n",
    "\n",
    "Couple Notes: \n",
    "- Rel. freq. instead of absolute counts b/c of different numbers of reviews\n",
    "- Only look at the top 5-10 words with the greatest differences\n"
   ]
  },
  {
   "cell_type": "code",
   "execution_count": 17,
   "metadata": {},
   "outputs": [
    {
     "data": {
      "text/plain": [
       "((6140, 5), (1476, 5))"
      ]
     },
     "execution_count": 17,
     "metadata": {},
     "output_type": "execute_result"
    }
   ],
   "source": [
    "good_shops = shops[shops['star_rating'] >= 4]\n",
    "bad_shops = shops[shops['star_rating'] < 4]\n",
    "good_shops.shape, bad_shops.shape"
   ]
  },
  {
   "cell_type": "code",
   "execution_count": 18,
   "metadata": {},
   "outputs": [
    {
     "data": {
      "text/html": [
       "<div>\n",
       "<style scoped>\n",
       "    .dataframe tbody tr th:only-of-type {\n",
       "        vertical-align: middle;\n",
       "    }\n",
       "\n",
       "    .dataframe tbody tr th {\n",
       "        vertical-align: top;\n",
       "    }\n",
       "\n",
       "    .dataframe thead th {\n",
       "        text-align: right;\n",
       "    }\n",
       "</style>\n",
       "<table border=\"1\" class=\"dataframe\">\n",
       "  <thead>\n",
       "    <tr style=\"text-align: right;\">\n",
       "      <th></th>\n",
       "      <th>word</th>\n",
       "      <th>appears_in</th>\n",
       "      <th>count</th>\n",
       "      <th>rank</th>\n",
       "      <th>pct_total</th>\n",
       "      <th>cul_pct_total</th>\n",
       "      <th>appears_in_pct</th>\n",
       "    </tr>\n",
       "  </thead>\n",
       "  <tbody>\n",
       "    <tr>\n",
       "      <th>13</th>\n",
       "      <td>the</td>\n",
       "      <td>5479</td>\n",
       "      <td>26616</td>\n",
       "      <td>1.0</td>\n",
       "      <td>0.044701</td>\n",
       "      <td>0.044701</td>\n",
       "      <td>0.892345</td>\n",
       "    </tr>\n",
       "    <tr>\n",
       "      <th>8</th>\n",
       "      <td>and</td>\n",
       "      <td>5545</td>\n",
       "      <td>21311</td>\n",
       "      <td>2.0</td>\n",
       "      <td>0.035791</td>\n",
       "      <td>0.080492</td>\n",
       "      <td>0.903094</td>\n",
       "    </tr>\n",
       "    <tr>\n",
       "      <th>36</th>\n",
       "      <td>a</td>\n",
       "      <td>4983</td>\n",
       "      <td>17706</td>\n",
       "      <td>3.0</td>\n",
       "      <td>0.029737</td>\n",
       "      <td>0.110229</td>\n",
       "      <td>0.811564</td>\n",
       "    </tr>\n",
       "    <tr>\n",
       "      <th>34</th>\n",
       "      <td>i</td>\n",
       "      <td>4344</td>\n",
       "      <td>14952</td>\n",
       "      <td>4.0</td>\n",
       "      <td>0.025111</td>\n",
       "      <td>0.135340</td>\n",
       "      <td>0.707492</td>\n",
       "    </tr>\n",
       "    <tr>\n",
       "      <th>30</th>\n",
       "      <td>to</td>\n",
       "      <td>4452</td>\n",
       "      <td>12763</td>\n",
       "      <td>5.0</td>\n",
       "      <td>0.021435</td>\n",
       "      <td>0.156775</td>\n",
       "      <td>0.725081</td>\n",
       "    </tr>\n",
       "  </tbody>\n",
       "</table>\n",
       "</div>"
      ],
      "text/plain": [
       "   word  appears_in  count  rank  pct_total  cul_pct_total  appears_in_pct\n",
       "13  the        5479  26616   1.0   0.044701       0.044701        0.892345\n",
       "8   and        5545  21311   2.0   0.035791       0.080492        0.903094\n",
       "36    a        4983  17706   3.0   0.029737       0.110229        0.811564\n",
       "34    i        4344  14952   4.0   0.025111       0.135340        0.707492\n",
       "30   to        4452  12763   5.0   0.021435       0.156775        0.725081"
      ]
     },
     "execution_count": 18,
     "metadata": {},
     "output_type": "execute_result"
    }
   ],
   "source": [
    "gs = count(good_shops['review_tokens'])\n",
    "gs.head()"
   ]
  },
  {
   "cell_type": "code",
   "execution_count": 19,
   "metadata": {},
   "outputs": [
    {
     "data": {
      "text/html": [
       "<div>\n",
       "<style scoped>\n",
       "    .dataframe tbody tr th:only-of-type {\n",
       "        vertical-align: middle;\n",
       "    }\n",
       "\n",
       "    .dataframe tbody tr th {\n",
       "        vertical-align: top;\n",
       "    }\n",
       "\n",
       "    .dataframe thead th {\n",
       "        text-align: right;\n",
       "    }\n",
       "</style>\n",
       "<table border=\"1\" class=\"dataframe\">\n",
       "  <thead>\n",
       "    <tr style=\"text-align: right;\">\n",
       "      <th></th>\n",
       "      <th>word</th>\n",
       "      <th>appears_in</th>\n",
       "      <th>count</th>\n",
       "      <th>rank</th>\n",
       "      <th>pct_total</th>\n",
       "      <th>cul_pct_total</th>\n",
       "      <th>appears_in_pct</th>\n",
       "    </tr>\n",
       "  </thead>\n",
       "  <tbody>\n",
       "    <tr>\n",
       "      <th>14</th>\n",
       "      <td>the</td>\n",
       "      <td>1368</td>\n",
       "      <td>8193</td>\n",
       "      <td>1.0</td>\n",
       "      <td>0.045889</td>\n",
       "      <td>0.045889</td>\n",
       "      <td>0.926829</td>\n",
       "    </tr>\n",
       "    <tr>\n",
       "      <th>9</th>\n",
       "      <td>and</td>\n",
       "      <td>1319</td>\n",
       "      <td>5339</td>\n",
       "      <td>2.0</td>\n",
       "      <td>0.029904</td>\n",
       "      <td>0.075793</td>\n",
       "      <td>0.893631</td>\n",
       "    </tr>\n",
       "    <tr>\n",
       "      <th>175</th>\n",
       "      <td>i</td>\n",
       "      <td>1184</td>\n",
       "      <td>5285</td>\n",
       "      <td>3.0</td>\n",
       "      <td>0.029601</td>\n",
       "      <td>0.105394</td>\n",
       "      <td>0.802168</td>\n",
       "    </tr>\n",
       "    <tr>\n",
       "      <th>27</th>\n",
       "      <td>a</td>\n",
       "      <td>1263</td>\n",
       "      <td>5049</td>\n",
       "      <td>4.0</td>\n",
       "      <td>0.028280</td>\n",
       "      <td>0.133674</td>\n",
       "      <td>0.855691</td>\n",
       "    </tr>\n",
       "    <tr>\n",
       "      <th>229</th>\n",
       "      <td>to</td>\n",
       "      <td>1201</td>\n",
       "      <td>4401</td>\n",
       "      <td>5.0</td>\n",
       "      <td>0.024650</td>\n",
       "      <td>0.158324</td>\n",
       "      <td>0.813686</td>\n",
       "    </tr>\n",
       "  </tbody>\n",
       "</table>\n",
       "</div>"
      ],
      "text/plain": [
       "    word  appears_in  count  rank  pct_total  cul_pct_total  appears_in_pct\n",
       "14   the        1368   8193   1.0   0.045889       0.045889        0.926829\n",
       "9    and        1319   5339   2.0   0.029904       0.075793        0.893631\n",
       "175    i        1184   5285   3.0   0.029601       0.105394        0.802168\n",
       "27     a        1263   5049   4.0   0.028280       0.133674        0.855691\n",
       "229   to        1201   4401   5.0   0.024650       0.158324        0.813686"
      ]
     },
     "execution_count": 19,
     "metadata": {},
     "output_type": "execute_result"
    }
   ],
   "source": [
    "bs = count(bad_shops['review_tokens'])\n",
    "bs.head()"
   ]
  },
  {
   "cell_type": "code",
   "execution_count": 20,
   "metadata": {},
   "outputs": [
    {
     "data": {
      "image/png": "[encoded data removed]",
      "text/plain": [
       "<Figure size 432x288 with 1 Axes>"
      ]
     },
     "metadata": {
      "needs_background": "light"
     },
     "output_type": "display_data"
    }
   ],
   "source": [
    "import squarify\n",
    "import matplotlib.pyplot as plt\n",
    "\n",
    "gs_top20 = gs[gs['rank'] <= 20]\n",
    "\n",
    "squarify.plot(sizes=gs_top20['pct_total'], label=gs_top20['word'], alpha=.8 )\n",
    "plt.axis('off')\n",
    "plt.show()\n"
   ]
  },
  {
   "cell_type": "code",
   "execution_count": 21,
   "metadata": {},
   "outputs": [
    {
     "data": {
      "image/png": "[encoded data removed]",
      "text/plain": [
       "<Figure size 432x288 with 1 Axes>"
      ]
     },
     "metadata": {
      "needs_background": "light"
     },
     "output_type": "display_data"
    }
   ],
   "source": [
    "import squarify\n",
    "import matplotlib.pyplot as plt\n",
    "\n",
    "bs_top20 = bs[bs['rank'] <= 20]\n",
    "\n",
    "squarify.plot(sizes=bs_top20['pct_total'], label=bs_top20['word'], alpha=.8 )\n",
    "plt.axis('off')\n",
    "plt.show()\n"
   ]
  },
  {
   "cell_type": "code",
   "execution_count": 22,
   "metadata": {},
   "outputs": [],
   "source": [
    "tokens = []\n",
    "\"\"\" Update those tokens w/o stopwords\"\"\"\n",
    "for doc in tokenizer.pipe(shops['review'], batch_size=500):\n",
    "    \n",
    "    doc_tokens = []\n",
    "    \n",
    "    for token in doc:\n",
    "        if (token.is_stop == False) & (token.is_punct == False):\n",
    "            doc_tokens.append(token.text.lower())\n",
    "\n",
    "    tokens.append(doc_tokens)\n",
    "\n",
    "shops['tokens'] = tokens"
   ]
  },
  {
   "cell_type": "code",
   "execution_count": 23,
   "metadata": {},
   "outputs": [],
   "source": [
    "#improve with stop words\n",
    "STOP_WORDS = nlp.Defaults.stop_words.union([' ', 'i', \"it's\", \"i'm\",\"i've\",'and', 'coffee', 'coffee.', 'shop',\n",
    "                                            'check-in', '1', \"don't\", '-'])"
   ]
  },
  {
   "cell_type": "code",
   "execution_count": 24,
   "metadata": {},
   "outputs": [],
   "source": [
    "#add in the stop words\n",
    "tokens = []\n",
    "\n",
    "for doc in tokenizer.pipe(shops['review'], batch_size=500):\n",
    "    \n",
    "    doc_tokens = []\n",
    "    \n",
    "    for token in doc: \n",
    "        if token.text.lower() not in STOP_WORDS:\n",
    "            doc_tokens.append(token.text.lower())\n",
    "   \n",
    "    tokens.append(doc_tokens)\n",
    "    \n",
    "shops['tokens'] = tokens"
   ]
  },
  {
   "cell_type": "code",
   "execution_count": 25,
   "metadata": {},
   "outputs": [
    {
     "data": {
      "text/plain": [
       "((6140, 6), (1476, 6))"
      ]
     },
     "execution_count": 25,
     "metadata": {},
     "output_type": "execute_result"
    }
   ],
   "source": [
    "good_shops = shops[shops['star_rating'] >= 4]\n",
    "bad_shops = shops[shops['star_rating'] < 4]\n",
    "good_shops.shape, bad_shops.shape"
   ]
  },
  {
   "cell_type": "code",
   "execution_count": 26,
   "metadata": {},
   "outputs": [],
   "source": [
    "gs = count(good_shops['tokens'])"
   ]
  },
  {
   "cell_type": "code",
   "execution_count": 27,
   "metadata": {},
   "outputs": [
    {
     "data": {
      "image/png": "[encoded data removed]",
      "text/plain": [
       "<Figure size 432x288 with 1 Axes>"
      ]
     },
     "metadata": {
      "needs_background": "light"
     },
     "output_type": "display_data"
    }
   ],
   "source": [
    "gs_top20 = gs[gs['rank'] <= 20]\n",
    "\n",
    "squarify.plot(sizes=gs_top20['pct_total'], label=gs_top20['word'], alpha=.8 )\n",
    "plt.axis('off')\n",
    "plt.show()"
   ]
  },
  {
   "cell_type": "code",
   "execution_count": 28,
   "metadata": {},
   "outputs": [],
   "source": [
    "bs = count(bad_shops['tokens'])"
   ]
  },
  {
   "cell_type": "code",
   "execution_count": 29,
   "metadata": {},
   "outputs": [
    {
     "data": {
      "image/png": "[encoded data removed]",
      "text/plain": [
       "<Figure size 432x288 with 1 Axes>"
      ]
     },
     "metadata": {
      "needs_background": "light"
     },
     "output_type": "display_data"
    }
   ],
   "source": [
    "bs_top20 = bs[bs['rank'] <= 20]\n",
    "\n",
    "squarify.plot(sizes=bs_top20['pct_total'], label=bs_top20['word'], alpha=.8 )\n",
    "plt.axis('off')\n",
    "plt.show()"
   ]
  },
  {
   "cell_type": "code",
   "execution_count": 43,
   "metadata": {},
   "outputs": [
    {
     "data": {
      "text/html": [
       "<div>\n",
       "<style scoped>\n",
       "    .dataframe tbody tr th:only-of-type {\n",
       "        vertical-align: middle;\n",
       "    }\n",
       "\n",
       "    .dataframe tbody tr th {\n",
       "        vertical-align: top;\n",
       "    }\n",
       "\n",
       "    .dataframe thead th {\n",
       "        text-align: right;\n",
       "    }\n",
       "</style>\n",
       "<table border=\"1\" class=\"dataframe\">\n",
       "  <thead>\n",
       "    <tr style=\"text-align: right;\">\n",
       "      <th></th>\n",
       "      <th>word</th>\n",
       "      <th>appears_in_good</th>\n",
       "      <th>count_good</th>\n",
       "      <th>rank_good</th>\n",
       "      <th>pct_total_good</th>\n",
       "      <th>cul_pct_total_good</th>\n",
       "      <th>appears_in_pct_good</th>\n",
       "      <th>appears_in_bad</th>\n",
       "      <th>count_bad</th>\n",
       "      <th>rank_bad</th>\n",
       "      <th>pct_total_bad</th>\n",
       "      <th>cul_pct_total_bad</th>\n",
       "      <th>appears_in_pct_bad</th>\n",
       "    </tr>\n",
       "  </thead>\n",
       "  <tbody>\n",
       "    <tr>\n",
       "      <th>0</th>\n",
       "      <td>place</td>\n",
       "      <td>2432.0</td>\n",
       "      <td>3389.0</td>\n",
       "      <td>1.0</td>\n",
       "      <td>0.011726</td>\n",
       "      <td>0.011726</td>\n",
       "      <td>0.396091</td>\n",
       "      <td>597.0</td>\n",
       "      <td>875.0</td>\n",
       "      <td>1.0</td>\n",
       "      <td>0.010604</td>\n",
       "      <td>0.010604</td>\n",
       "      <td>0.404472</td>\n",
       "    </tr>\n",
       "    <tr>\n",
       "      <th>1</th>\n",
       "      <td>great</td>\n",
       "      <td>2174.0</td>\n",
       "      <td>2902.0</td>\n",
       "      <td>2.0</td>\n",
       "      <td>0.010041</td>\n",
       "      <td>0.021767</td>\n",
       "      <td>0.354072</td>\n",
       "      <td>264.0</td>\n",
       "      <td>348.0</td>\n",
       "      <td>7.0</td>\n",
       "      <td>0.004217</td>\n",
       "      <td>0.045144</td>\n",
       "      <td>0.178862</td>\n",
       "    </tr>\n",
       "    <tr>\n",
       "      <th>2</th>\n",
       "      <td>good</td>\n",
       "      <td>1643.0</td>\n",
       "      <td>2180.0</td>\n",
       "      <td>3.0</td>\n",
       "      <td>0.007543</td>\n",
       "      <td>0.029310</td>\n",
       "      <td>0.267590</td>\n",
       "      <td>441.0</td>\n",
       "      <td>599.0</td>\n",
       "      <td>3.0</td>\n",
       "      <td>0.007259</td>\n",
       "      <td>0.027971</td>\n",
       "      <td>0.298780</td>\n",
       "    </tr>\n",
       "    <tr>\n",
       "      <th>3</th>\n",
       "      <td>like</td>\n",
       "      <td>1486.0</td>\n",
       "      <td>2068.0</td>\n",
       "      <td>4.0</td>\n",
       "      <td>0.007155</td>\n",
       "      <td>0.036466</td>\n",
       "      <td>0.242020</td>\n",
       "      <td>548.0</td>\n",
       "      <td>834.0</td>\n",
       "      <td>2.0</td>\n",
       "      <td>0.010107</td>\n",
       "      <td>0.020712</td>\n",
       "      <td>0.371274</td>\n",
       "    </tr>\n",
       "    <tr>\n",
       "      <th>4</th>\n",
       "      <td>love</td>\n",
       "      <td>1263.0</td>\n",
       "      <td>1604.0</td>\n",
       "      <td>5.0</td>\n",
       "      <td>0.005550</td>\n",
       "      <td>0.042016</td>\n",
       "      <td>0.205700</td>\n",
       "      <td>171.0</td>\n",
       "      <td>202.0</td>\n",
       "      <td>21.0</td>\n",
       "      <td>0.002448</td>\n",
       "      <td>0.089464</td>\n",
       "      <td>0.115854</td>\n",
       "    </tr>\n",
       "  </tbody>\n",
       "</table>\n",
       "</div>"
      ],
      "text/plain": [
       "    word  appears_in_good  count_good  rank_good  pct_total_good  \\\n",
       "0  place           2432.0      3389.0        1.0        0.011726   \n",
       "1  great           2174.0      2902.0        2.0        0.010041   \n",
       "2   good           1643.0      2180.0        3.0        0.007543   \n",
       "3   like           1486.0      2068.0        4.0        0.007155   \n",
       "4   love           1263.0      1604.0        5.0        0.005550   \n",
       "\n",
       "   cul_pct_total_good  appears_in_pct_good  appears_in_bad  count_bad  \\\n",
       "0            0.011726             0.396091           597.0      875.0   \n",
       "1            0.021767             0.354072           264.0      348.0   \n",
       "2            0.029310             0.267590           441.0      599.0   \n",
       "3            0.036466             0.242020           548.0      834.0   \n",
       "4            0.042016             0.205700           171.0      202.0   \n",
       "\n",
       "   rank_bad  pct_total_bad  cul_pct_total_bad  appears_in_pct_bad  \n",
       "0       1.0       0.010604           0.010604            0.404472  \n",
       "1       7.0       0.004217           0.045144            0.178862  \n",
       "2       3.0       0.007259           0.027971            0.298780  \n",
       "3       2.0       0.010107           0.020712            0.371274  \n",
       "4      21.0       0.002448           0.089464            0.115854  "
      ]
     },
     "execution_count": 43,
     "metadata": {},
     "output_type": "execute_result"
    }
   ],
   "source": [
    "#visualize the difference in word counts between good and bad reviews\n",
    "#1st merge a df with both good and bad review word counts\n",
    "twc = pd.merge(gs, bs, how='outer', on='word', suffixes=('_good', '_bad'))\n",
    "twc = twc.fillna(0)\n",
    "twc.head()"
   ]
  },
  {
   "cell_type": "code",
   "execution_count": 46,
   "metadata": {},
   "outputs": [
    {
     "data": {
      "text/html": [
       "<div>\n",
       "<style scoped>\n",
       "    .dataframe tbody tr th:only-of-type {\n",
       "        vertical-align: middle;\n",
       "    }\n",
       "\n",
       "    .dataframe tbody tr th {\n",
       "        vertical-align: top;\n",
       "    }\n",
       "\n",
       "    .dataframe thead th {\n",
       "        text-align: right;\n",
       "    }\n",
       "</style>\n",
       "<table border=\"1\" class=\"dataframe\">\n",
       "  <thead>\n",
       "    <tr style=\"text-align: right;\">\n",
       "      <th></th>\n",
       "      <th>word</th>\n",
       "      <th>appears_in_good</th>\n",
       "      <th>count_good</th>\n",
       "      <th>rank_good</th>\n",
       "      <th>pct_total_good</th>\n",
       "      <th>cul_pct_total_good</th>\n",
       "      <th>appears_in_pct_good</th>\n",
       "      <th>appears_in_bad</th>\n",
       "      <th>count_bad</th>\n",
       "      <th>rank_bad</th>\n",
       "      <th>pct_total_bad</th>\n",
       "      <th>cul_pct_total_bad</th>\n",
       "      <th>appears_in_pct_bad</th>\n",
       "      <th>difference</th>\n",
       "    </tr>\n",
       "  </thead>\n",
       "  <tbody>\n",
       "    <tr>\n",
       "      <th>4666</th>\n",
       "      <td>stunning</td>\n",
       "      <td>7.0</td>\n",
       "      <td>7.0</td>\n",
       "      <td>4667.0</td>\n",
       "      <td>0.000024</td>\n",
       "      <td>0.823931</td>\n",
       "      <td>0.00114</td>\n",
       "      <td>2.0</td>\n",
       "      <td>2.0</td>\n",
       "      <td>4813.0</td>\n",
       "      <td>0.000024</td>\n",
       "      <td>0.846608</td>\n",
       "      <td>0.001355</td>\n",
       "      <td>1.777968e-08</td>\n",
       "    </tr>\n",
       "    <tr>\n",
       "      <th>4870</th>\n",
       "      <td>contacted</td>\n",
       "      <td>7.0</td>\n",
       "      <td>7.0</td>\n",
       "      <td>4871.0</td>\n",
       "      <td>0.000024</td>\n",
       "      <td>0.828872</td>\n",
       "      <td>0.00114</td>\n",
       "      <td>2.0</td>\n",
       "      <td>2.0</td>\n",
       "      <td>6453.0</td>\n",
       "      <td>0.000024</td>\n",
       "      <td>0.886359</td>\n",
       "      <td>0.001355</td>\n",
       "      <td>1.777968e-08</td>\n",
       "    </tr>\n",
       "    <tr>\n",
       "      <th>4872</th>\n",
       "      <td>ordered:</td>\n",
       "      <td>7.0</td>\n",
       "      <td>7.0</td>\n",
       "      <td>4873.0</td>\n",
       "      <td>0.000024</td>\n",
       "      <td>0.828920</td>\n",
       "      <td>0.00114</td>\n",
       "      <td>2.0</td>\n",
       "      <td>2.0</td>\n",
       "      <td>5845.0</td>\n",
       "      <td>0.000024</td>\n",
       "      <td>0.871622</td>\n",
       "      <td>0.001355</td>\n",
       "      <td>1.777968e-08</td>\n",
       "    </tr>\n",
       "    <tr>\n",
       "      <th>4877</th>\n",
       "      <td>catering</td>\n",
       "      <td>7.0</td>\n",
       "      <td>7.0</td>\n",
       "      <td>4878.0</td>\n",
       "      <td>0.000024</td>\n",
       "      <td>0.829041</td>\n",
       "      <td>0.00114</td>\n",
       "      <td>2.0</td>\n",
       "      <td>2.0</td>\n",
       "      <td>6413.0</td>\n",
       "      <td>0.000024</td>\n",
       "      <td>0.885389</td>\n",
       "      <td>0.001355</td>\n",
       "      <td>1.777968e-08</td>\n",
       "    </tr>\n",
       "    <tr>\n",
       "      <th>4903</th>\n",
       "      <td>large.</td>\n",
       "      <td>7.0</td>\n",
       "      <td>7.0</td>\n",
       "      <td>4904.0</td>\n",
       "      <td>0.000024</td>\n",
       "      <td>0.829671</td>\n",
       "      <td>0.00114</td>\n",
       "      <td>2.0</td>\n",
       "      <td>2.0</td>\n",
       "      <td>4834.0</td>\n",
       "      <td>0.000024</td>\n",
       "      <td>0.847117</td>\n",
       "      <td>0.001355</td>\n",
       "      <td>1.777968e-08</td>\n",
       "    </tr>\n",
       "  </tbody>\n",
       "</table>\n",
       "</div>"
      ],
      "text/plain": [
       "           word  appears_in_good  count_good  rank_good  pct_total_good  \\\n",
       "4666   stunning              7.0         7.0     4667.0        0.000024   \n",
       "4870  contacted              7.0         7.0     4871.0        0.000024   \n",
       "4872   ordered:              7.0         7.0     4873.0        0.000024   \n",
       "4877   catering              7.0         7.0     4878.0        0.000024   \n",
       "4903     large.              7.0         7.0     4904.0        0.000024   \n",
       "\n",
       "      cul_pct_total_good  appears_in_pct_good  appears_in_bad  count_bad  \\\n",
       "4666            0.823931              0.00114             2.0        2.0   \n",
       "4870            0.828872              0.00114             2.0        2.0   \n",
       "4872            0.828920              0.00114             2.0        2.0   \n",
       "4877            0.829041              0.00114             2.0        2.0   \n",
       "4903            0.829671              0.00114             2.0        2.0   \n",
       "\n",
       "      rank_bad  pct_total_bad  cul_pct_total_bad  appears_in_pct_bad  \\\n",
       "4666    4813.0       0.000024           0.846608            0.001355   \n",
       "4870    6453.0       0.000024           0.886359            0.001355   \n",
       "4872    5845.0       0.000024           0.871622            0.001355   \n",
       "4877    6413.0       0.000024           0.885389            0.001355   \n",
       "4903    4834.0       0.000024           0.847117            0.001355   \n",
       "\n",
       "        difference  \n",
       "4666  1.777968e-08  \n",
       "4870  1.777968e-08  \n",
       "4872  1.777968e-08  \n",
       "4877  1.777968e-08  \n",
       "4903  1.777968e-08  "
      ]
     },
     "execution_count": 46,
     "metadata": {},
     "output_type": "execute_result"
    }
   ],
   "source": [
    "#create new column for difference\n",
    "#remove irrelevant +/- \n",
    "twc['difference'] = abs(twc['pct_total_good'] - twc['pct_total_bad'])\n",
    "twc.head()"
   ]
  },
  {
   "cell_type": "code",
   "execution_count": 48,
   "metadata": {},
   "outputs": [
    {
     "data": {
      "text/html": [
       "<div>\n",
       "<style scoped>\n",
       "    .dataframe tbody tr th:only-of-type {\n",
       "        vertical-align: middle;\n",
       "    }\n",
       "\n",
       "    .dataframe tbody tr th {\n",
       "        vertical-align: top;\n",
       "    }\n",
       "\n",
       "    .dataframe thead th {\n",
       "        text-align: right;\n",
       "    }\n",
       "</style>\n",
       "<table border=\"1\" class=\"dataframe\">\n",
       "  <thead>\n",
       "    <tr style=\"text-align: right;\">\n",
       "      <th></th>\n",
       "      <th>word</th>\n",
       "      <th>appears_in_good</th>\n",
       "      <th>count_good</th>\n",
       "      <th>rank_good</th>\n",
       "      <th>pct_total_good</th>\n",
       "      <th>cul_pct_total_good</th>\n",
       "      <th>appears_in_pct_good</th>\n",
       "      <th>appears_in_bad</th>\n",
       "      <th>count_bad</th>\n",
       "      <th>rank_bad</th>\n",
       "      <th>pct_total_bad</th>\n",
       "      <th>cul_pct_total_bad</th>\n",
       "      <th>appears_in_pct_bad</th>\n",
       "      <th>difference</th>\n",
       "    </tr>\n",
       "  </thead>\n",
       "  <tbody>\n",
       "    <tr>\n",
       "      <th>1</th>\n",
       "      <td>great</td>\n",
       "      <td>2174.0</td>\n",
       "      <td>2902.0</td>\n",
       "      <td>2.0</td>\n",
       "      <td>0.010041</td>\n",
       "      <td>0.021767</td>\n",
       "      <td>0.354072</td>\n",
       "      <td>264.0</td>\n",
       "      <td>348.0</td>\n",
       "      <td>7.0</td>\n",
       "      <td>0.004217</td>\n",
       "      <td>0.045144</td>\n",
       "      <td>0.178862</td>\n",
       "      <td>0.005824</td>\n",
       "    </tr>\n",
       "    <tr>\n",
       "      <th>4</th>\n",
       "      <td>love</td>\n",
       "      <td>1263.0</td>\n",
       "      <td>1604.0</td>\n",
       "      <td>5.0</td>\n",
       "      <td>0.005550</td>\n",
       "      <td>0.042016</td>\n",
       "      <td>0.205700</td>\n",
       "      <td>171.0</td>\n",
       "      <td>202.0</td>\n",
       "      <td>21.0</td>\n",
       "      <td>0.002448</td>\n",
       "      <td>0.089464</td>\n",
       "      <td>0.115854</td>\n",
       "      <td>0.003102</td>\n",
       "    </tr>\n",
       "    <tr>\n",
       "      <th>3</th>\n",
       "      <td>like</td>\n",
       "      <td>1486.0</td>\n",
       "      <td>2068.0</td>\n",
       "      <td>4.0</td>\n",
       "      <td>0.007155</td>\n",
       "      <td>0.036466</td>\n",
       "      <td>0.242020</td>\n",
       "      <td>548.0</td>\n",
       "      <td>834.0</td>\n",
       "      <td>2.0</td>\n",
       "      <td>0.010107</td>\n",
       "      <td>0.020712</td>\n",
       "      <td>0.371274</td>\n",
       "      <td>0.002952</td>\n",
       "    </tr>\n",
       "    <tr>\n",
       "      <th>7</th>\n",
       "      <td>best</td>\n",
       "      <td>951.0</td>\n",
       "      <td>1093.0</td>\n",
       "      <td>8.0</td>\n",
       "      <td>0.003782</td>\n",
       "      <td>0.053863</td>\n",
       "      <td>0.154886</td>\n",
       "      <td>64.0</td>\n",
       "      <td>72.0</td>\n",
       "      <td>169.0</td>\n",
       "      <td>0.000873</td>\n",
       "      <td>0.296047</td>\n",
       "      <td>0.043360</td>\n",
       "      <td>0.002909</td>\n",
       "    </tr>\n",
       "    <tr>\n",
       "      <th>16</th>\n",
       "      <td>check-ins</td>\n",
       "      <td>929.0</td>\n",
       "      <td>930.0</td>\n",
       "      <td>17.0</td>\n",
       "      <td>0.003218</td>\n",
       "      <td>0.084426</td>\n",
       "      <td>0.151303</td>\n",
       "      <td>100.0</td>\n",
       "      <td>100.0</td>\n",
       "      <td>104.0</td>\n",
       "      <td>0.001212</td>\n",
       "      <td>0.229282</td>\n",
       "      <td>0.067751</td>\n",
       "      <td>0.002006</td>\n",
       "    </tr>\n",
       "  </tbody>\n",
       "</table>\n",
       "</div>"
      ],
      "text/plain": [
       "         word  appears_in_good  count_good  rank_good  pct_total_good  \\\n",
       "1       great           2174.0      2902.0        2.0        0.010041   \n",
       "4        love           1263.0      1604.0        5.0        0.005550   \n",
       "3        like           1486.0      2068.0        4.0        0.007155   \n",
       "7        best            951.0      1093.0        8.0        0.003782   \n",
       "16  check-ins            929.0       930.0       17.0        0.003218   \n",
       "\n",
       "    cul_pct_total_good  appears_in_pct_good  appears_in_bad  count_bad  \\\n",
       "1             0.021767             0.354072           264.0      348.0   \n",
       "4             0.042016             0.205700           171.0      202.0   \n",
       "3             0.036466             0.242020           548.0      834.0   \n",
       "7             0.053863             0.154886            64.0       72.0   \n",
       "16            0.084426             0.151303           100.0      100.0   \n",
       "\n",
       "    rank_bad  pct_total_bad  cul_pct_total_bad  appears_in_pct_bad  difference  \n",
       "1        7.0       0.004217           0.045144            0.178862    0.005824  \n",
       "4       21.0       0.002448           0.089464            0.115854    0.003102  \n",
       "3        2.0       0.010107           0.020712            0.371274    0.002952  \n",
       "7      169.0       0.000873           0.296047            0.043360    0.002909  \n",
       "16     104.0       0.001212           0.229282            0.067751    0.002006  "
      ]
     },
     "execution_count": 48,
     "metadata": {},
     "output_type": "execute_result"
    }
   ],
   "source": [
    "# sort in useful order\n",
    "twc = twc.sort_values(by=['difference'], ascending=False)\n",
    "twc.head()"
   ]
  },
  {
   "cell_type": "code",
   "execution_count": 50,
   "metadata": {},
   "outputs": [
    {
     "data": {
      "image/png": "[encoded data removed]",
      "text/plain": [
       "<Figure size 432x288 with 1 Axes>"
      ]
     },
     "metadata": {
      "needs_background": "light"
     },
     "output_type": "display_data"
    }
   ],
   "source": [
    "#top 15 largest differences between good and bad shops\n",
    "twc_top15 = twc.head(n=10)\n",
    "\n",
    "squarify.plot(sizes=twc_top15['difference'], label=twc_top15['word'], alpha=.8 )\n",
    "plt.axis('off')\n",
    "plt.show()"
   ]
  },
  {
   "cell_type": "code",
   "execution_count": 36,
   "metadata": {},
   "outputs": [],
   "source": [
    "#Lets add lemmatization\n",
    "def get_lemmas(text):\n",
    "    lemmas = []\n",
    "    doc = nlp(text)\n",
    "    for token in doc: \n",
    "        if ((token.is_stop == False) and (token.is_punct == False)) and (token.pos_ != 'PRON'):\n",
    "            lemmas.append(token.lemma_)\n",
    "    return lemmas"
   ]
  },
  {
   "cell_type": "code",
   "execution_count": 34,
   "metadata": {},
   "outputs": [
    {
     "data": {
      "text/plain": [
       "0    [1, check, love, love, love, atmosphere, corne...\n",
       "1    [list, date, night, austin, ambiance, austin, ...\n",
       "2    [1, check, list, brunch, spot, love, eclectic,...\n",
       "3    [cool, decor, good, drink, nice, seating,  ,  ...\n",
       "4    [1, check, locate, northcross, mall, shopping,...\n",
       "Name: lemmas, dtype: object"
      ]
     },
     "execution_count": 34,
     "metadata": {},
     "output_type": "execute_result"
    }
   ],
   "source": [
    "shops['lemmas'] = shops['review'].apply(get_lemmas)\n",
    "shops['lemmas'].head()"
   ]
  },
  {
   "cell_type": "code",
   "execution_count": 35,
   "metadata": {},
   "outputs": [
    {
     "data": {
      "image/png": "[encoded data removed]",
      "text/plain": [
       "<Figure size 432x288 with 1 Axes>"
      ]
     },
     "metadata": {
      "needs_background": "light"
     },
     "output_type": "display_data"
    }
   ],
   "source": [
    "#visualize whole df \n",
    "lshops = count(shops['lemmas'])\n",
    "lshops_top20 = lshops[lshops['rank'] <= 20]\n",
    "\n",
    "squarify.plot(sizes=lshops_top20['pct_total'], label=lshops_top20['word'], alpha=.8 )\n",
    "plt.axis('off')\n",
    "plt.show()"
   ]
  },
  {
   "cell_type": "code",
   "execution_count": 37,
   "metadata": {},
   "outputs": [],
   "source": [
    "#now visualize top lemmas for good and bad shops\n",
    "good_shops = shops[shops['star_rating'] >= 4]\n",
    "bad_shops = shops[shops['star_rating'] < 4]\n",
    "\n",
    "lgs = count(good_shops['lemmas'])\n",
    "lbs = count(bad_shops['lemmas'])\n",
    "\n",
    "lgs_top20 = lgs[lgs['rank'] <= 20]\n",
    "lbs_top20 = lbs[lbs['rank'] <= 20]"
   ]
  },
  {
   "cell_type": "code",
   "execution_count": 38,
   "metadata": {},
   "outputs": [
    {
     "data": {
      "image/png": "[encoded data removed]",
      "text/plain": [
       "<Figure size 432x288 with 1 Axes>"
      ]
     },
     "metadata": {
      "needs_background": "light"
     },
     "output_type": "display_data"
    }
   ],
   "source": [
    "#good shops \n",
    "squarify.plot(sizes=lgs_top20['pct_total'], label=lgs_top20['word'], alpha=.8 )\n",
    "plt.axis('off')\n",
    "plt.show()"
   ]
  },
  {
   "cell_type": "code",
   "execution_count": 39,
   "metadata": {},
   "outputs": [
    {
     "data": {
      "image/png": "[encoded data removed]",
      "text/plain": [
       "<Figure size 432x288 with 1 Axes>"
      ]
     },
     "metadata": {
      "needs_background": "light"
     },
     "output_type": "display_data"
    }
   ],
   "source": [
    "#bad shops\n",
    "squarify.plot(sizes=lbs_top20['pct_total'], label=lbs_top20['word'], alpha=.8 )\n",
    "plt.axis('off')\n",
    "plt.show()"
   ]
  },
  {
   "cell_type": "code",
   "execution_count": null,
   "metadata": {},
   "outputs": [],
   "source": []
  },
  {
   "cell_type": "markdown",
   "metadata": {
    "colab_type": "text",
    "id": "1dCb1q8XphcP",
    "toc-hr-collapsed": true
   },
   "source": [
    "## Stretch Goals\n",
    "\n",
    "* Analyze another corpus of documents - such as Indeed.com job listings ;).\n",
    "* Play with the Spacy API to\n",
    " - Extract Named Entities\n",
    " - Extracting 'noun chunks'\n",
    " - Attempt Document Classification with just Spacy\n",
    " - *Note:* This [course](https://course.spacy.io/) will be of interesting in helping you with these stretch goals. \n",
    "* Try to build a plotly dash app with your text data \n",
    "\n"
   ]
  }
 ],
 "metadata": {
  "colab": {
   "collapsed_sections": [],
   "name": "LS_DS_421_Text_Data_Assignment.ipynb",
   "provenance": [],
   "version": "0.3.2"
  },
  "kernelspec": {
   "display_name": "U4-S1-NLP (Python3)",
   "language": "python",
   "name": "u4-s1-nlp"
  },
  "language_info": {
   "codemirror_mode": {
    "name": "ipython",
    "version": 3
   },
   "file_extension": ".py",
   "mimetype": "text/x-python",
   "name": "python",
   "nbconvert_exporter": "python",
   "pygments_lexer": "ipython3",
   "version": "3.8.0"
  },
  "toc-autonumbering": false
 },
 "nbformat": 4,
 "nbformat_minor": 4
}
